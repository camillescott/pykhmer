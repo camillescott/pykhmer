{
 "metadata": {
  "name": ""
 },
 "nbformat": 3,
 "nbformat_minor": 0,
 "worksheets": [
  {
   "cells": [
    {
     "cell_type": "code",
     "collapsed": false,
     "input": [
      "import smhasher\n",
      "from smhasher import murmur3_x64_128 as smhash\n",
      "from khmer import forward_hash\n",
      "\n",
      "import array\n",
      "import sys"
     ],
     "language": "python",
     "metadata": {},
     "outputs": [],
     "prompt_number": 1
    },
    {
     "cell_type": "code",
     "collapsed": false,
     "input": [
      "import seaborn as sns\n",
      "sns.set(style=\"whitegrid\")\n",
      "sns.set_color_palette(\"husl\", desat=.6)\n",
      "mpl.rc(\"figure\", figsize=(18,12), dpi=600)\n",
      "mpl.rc(\"axes\", titlesize=24, labelsize=16)\n",
      "mpl.rc(\"legend\", fontsize=16)"
     ],
     "language": "python",
     "metadata": {},
     "outputs": [
      {
       "output_type": "stream",
       "stream": "stderr",
       "text": [
        "/Users/camille/anaconda/lib/python2.7/site-packages/seaborn/rcmod.py:461: UserWarning: set_color_palette is deprecated, use set_palette instead.\n",
        "  UserWarning)\n"
       ]
      }
     ],
     "prompt_number": 2
    },
    {
     "cell_type": "code",
     "collapsed": false,
     "input": [
      "from pykhmer_utils import get_n_primes_above_x as get_primes"
     ],
     "language": "python",
     "metadata": {},
     "outputs": [],
     "prompt_number": 3
    },
    {
     "cell_type": "code",
     "collapsed": false,
     "input": [
      "class NucleotideException(Exception):\n",
      "    def __init__(self, msg):\n",
      "        self.msg = msg\n",
      "\n",
      "    def __str__():\n",
      "        return 'NucleotideError: ' + self.msg"
     ],
     "language": "python",
     "metadata": {},
     "outputs": [],
     "prompt_number": 4
    },
    {
     "cell_type": "code",
     "collapsed": false,
     "input": [
      "class KMerException(Exception):\n",
      "    def __init__(self, msg):\n",
      "        self.msg = msg\n",
      "\n",
      "    def __str__(self):\n",
      "        return 'KMerError: ' + self.msg"
     ],
     "language": "python",
     "metadata": {},
     "outputs": [],
     "prompt_number": 5
    },
    {
     "cell_type": "code",
     "collapsed": false,
     "input": [
      "def base_to_bits(base):\n",
      "    if base == 'A':\n",
      "        return 0L\n",
      "    elif base == 'T':\n",
      "        return 1L\n",
      "    elif base == 'G':\n",
      "        return 2L\n",
      "    elif base == 'C':\n",
      "        return 3L\n",
      "    else:\n",
      "        raise NucleotideException('{} not a nucleotide'.format(base))\n",
      "\n",
      "def bits_to_base(n):\n",
      "    if n == 0L:\n",
      "        return 'A'\n",
      "    elif n == 1L:\n",
      "        return 'T'\n",
      "    elif n == 2L:\n",
      "        return 'G'\n",
      "    elif n == 3L:\n",
      "        return 'C'\n",
      "    else:\n",
      "        raise NucleotideException('No nucleotide for value {}'.format(n))\n",
      "\n",
      "def comp(base):\n",
      "    if base == 'A':\n",
      "        return 'T'\n",
      "    elif base == 'T':\n",
      "        return 'A'\n",
      "    elif base == 'C':\n",
      "        return 'G'\n",
      "    elif base == 'G':\n",
      "        return 'C'\n",
      "    else:\n",
      "        raise NucleotideException('{} is not a nucleotide!'.format(base))\n"
     ],
     "language": "python",
     "metadata": {},
     "outputs": [],
     "prompt_number": 6
    },
    {
     "cell_type": "code",
     "collapsed": false,
     "input": [
      "'''\n",
      "Simple python-land direct hashing.\n",
      "\n",
      "These are reimplementations of khmer's forward and reverse hash\n",
      "functions; they are very slow \n",
      "'''\n",
      "\n",
      "def hash_forward(kmer):\n",
      "    h = 0L\n",
      "    r = 0L\n",
      "\n",
      "    hbits = kmer.bits()\n",
      "    rbits = kmer.revcomp_bits()\n",
      "\n",
      "    h = h | hbits.next()\n",
      "    r = r | rbits.next()\n",
      "\n",
      "    for hb, rb in izip(hbits, rbits):\n",
      "        h = h << 2L\n",
      "        r = r << 2L\n",
      "        h = h | hb\n",
      "        r = r | rb\n",
      "\n",
      "    return h, r\n",
      "\n",
      "def hash_reverse(hashval, K):\n",
      "    val = long(hashval) & 3L\n",
      "    bases = [''] * K\n",
      "    bases[-1] = bits_to_base(val)\n",
      "    hashval = long(hashval)\n",
      "\n",
      "    for i in xrange(1, K):\n",
      "        hashval = hashval >> 2L\n",
      "        val = hashval & 3L\n",
      "        bases[-i-1] = bits_to_base(val)\n",
      "\n",
      "    return dna(''.join(bases))"
     ],
     "language": "python",
     "metadata": {},
     "outputs": [],
     "prompt_number": 7
    },
    {
     "cell_type": "code",
     "collapsed": false,
     "input": [
      "'''\n",
      "Simple class to expose some nucleotide-specific methods on strings.\n",
      "'''\n",
      "\n",
      "class dna(str):\n",
      "\n",
      "    def bits(self):\n",
      "        for base in self:\n",
      "            if base == 'A':\n",
      "                yield 0L\n",
      "            elif base == 'T':\n",
      "                yield 1L\n",
      "            elif base == 'G':\n",
      "                yield 2L\n",
      "            else:\n",
      "                yield 3L\n",
      "\n",
      "    def revcomp(self):\n",
      "        for base in reversed(self):\n",
      "            if base == 'A':\n",
      "                yield 'T'\n",
      "            elif base == 'T':\n",
      "                yield 'A'\n",
      "            elif base == 'G':\n",
      "                yield 'C'\n",
      "            else:\n",
      "                yield 'G'\n",
      "\n",
      "    def revcomp_bits(self):\n",
      "        for base in reversed(self):\n",
      "            if base == 'A':\n",
      "                yield 1L\n",
      "            elif base == 'T':\n",
      "                yield 0L\n",
      "            elif base == 'G':\n",
      "                yield 3L\n",
      "            else:\n",
      "                yield 2L\n",
      "\n",
      "    def kmers(self, K):\n",
      "        for i in xrange(len(self)-K+1):\n",
      "            yield dna(self[i:i+K])\n",
      "\n",
      "    def kmers_hashed(self, K):\n",
      "        h = smhash\n",
      "        for i in xrange(len(self)-K+1):\n",
      "            yield h(self[i:i+K])"
     ],
     "language": "python",
     "metadata": {},
     "outputs": [],
     "prompt_number": 8
    },
    {
     "cell_type": "code",
     "collapsed": false,
     "input": [
      "def zeros(n, dtype=np.uint8):\n",
      "    while(n>0):\n",
      "        yield dtype(0)\n",
      "        n = n -1"
     ],
     "language": "python",
     "metadata": {},
     "outputs": [],
     "prompt_number": 9
    },
    {
     "cell_type": "code",
     "collapsed": false,
     "input": [
      "class KCMSException(Exception):\n",
      "    \n",
      "    def __init__(self, msg):\n",
      "        self.msg = msg\n",
      "    \n",
      "    def __str__(self):\n",
      "        return 'KMerCountMinSketchError: ' + self.msg\n",
      "\n",
      "class KMerCountMinSketch(object):\n",
      "\n",
      "    def __init__(self, ksize, minhashsize, nhashes, dtype=None, arrtype=bytearray):\n",
      "        \n",
      "        self.valid_types = [int, np.uint64, np.uint8, np.uint16, np.uint32, None]\n",
      "        \n",
      "        if ksize < 5:\n",
      "            raise KCMSException('ksize too small:' + ksize)\n",
      "        if nhashes < 1:\n",
      "            raise KCMSException('nhashes must be > 0')\n",
      "        if minhashsize < 1e5:\n",
      "            raise KCMSException('minhashsize should be > 10000')\n",
      "        \n",
      "        self.ksize = ksize\n",
      "        self.minhashsize = long(minhashsize)\n",
      "        self.nhashes = nhashes\n",
      "\n",
      "        self.dtype = dtype\n",
      "        self.arrtype = arrtype\n",
      "        \n",
      "        self.primes = get_primes(self.nhashes, self.minhashsize)\n",
      "        \n",
      "        if arrtype is bytearray:\n",
      "            if dtype != None:\n",
      "                raise TypeError('Cannot specific dtype when arrtype is bytearray')\n",
      "            self.counts = [bytearray(zeros(p)) for p in self.primes]\n",
      "        else:\n",
      "            if dtype not in self.valid_types:\n",
      "                raise TypeError('dtype must be ' + ', '.join(str(t) for t in self.valid_types))\n",
      "            if arrtype is array.array:\n",
      "                if self.dtype in [int, np.uint64, np.uint32]:\n",
      "                    self.counts = [array.array('L', zeros(p, dtype=self.dtype)) for p in self.primes]\n",
      "                elif self.dtype in [np.uint16]:\n",
      "                    self.counts = [array.array('H', zeros(p, dtype=self.dtype)) for p in self.primes]\n",
      "                else:\n",
      "                    self.counts = [array.array('B', zeros(p)) for p in self.primes]\n",
      "            elif arrtype is np.array:\n",
      "                if self.dtype == None:\n",
      "                    self.counts = [np.array([z for z in zeros(p)]) for p in self.primes]\n",
      "                else:\n",
      "                    self.counts = [np.array([z for z in zeros(p)], dtype=self.dtype) for p in self.primes]\n",
      "            else:\n",
      "                # this could definitely cause exceptions\n",
      "                self.counts = [arrtype([z for z in zeros(p)]) for p in self.primes]\n",
      "        \n",
      "        for table in self.counts:\n",
      "            assert len(table) >= 1e5\n",
      "            for c in table:\n",
      "                assert c == 0\n",
      "        assert self.ksize > 4\n",
      "        assert len(self.counts) == self.nhashes\n",
      "        assert set(self.primes) == set([len(t) for t in self.counts])\n",
      "        \n",
      "        print >>sys.stderr, 'KMerCountMinSketch\\n'+'*'*18\n",
      "        print >>sys.stderr, 'K:', self.ksize\n",
      "        print >>sys.stderr, 'nhashes:', self.nhashes\n",
      "        print >>sys.stderr, 'Hashing primes:\\n', ', '.join(str(t) for t in self.primes)\n",
      "        print >>sys.stderr, 'Array type:', type(self.counts[0])\n",
      "        print >>sys.stderr, 'Array dtype:', type(self.counts[0][0])\n",
      "\n",
      "    def get(self, kmer):\n",
      "        if len(kmer) != self.ksize:\n",
      "            raise KMerException('Tried to get count \\\n",
      "                                with invalid k-mer size')\n",
      "\n",
      "        kh = smhash(kmer)\n",
      "        counts = self.counts\n",
      "        return min(table[kh % len(table)] for table in counts)\n",
      "    \n",
      "    def get_hashed(self, kh):\n",
      "        counts = self.counts\n",
      "        return min(table[kh % len(table)] for table in counts)\n",
      "\n",
      "    def count(self, kmer):\n",
      "        kh = smhash(kmer)\n",
      "        counts = self.counts\n",
      "        for i, p in enumerate(self.primes):\n",
      "            try:\n",
      "                counts[i][kh % p] += 1\n",
      "            except ValueError, OverflowError:\n",
      "                pass\n",
      "\n",
      "    def count_sequence(self, sequence):\n",
      "        primes = self.primes\n",
      "        counts = self.counts\n",
      "        for kh in sequence.kmers_hashed(self.ksize):\n",
      "            for i, p in enumerate(primes):\n",
      "                try:\n",
      "                    counts[i][kh % p] += 1\n",
      "                except ValueError, OverflowError:\n",
      "                    pass\n",
      "\n",
      "    def n_occupied(self):\n",
      "        return min(np.count_nonzero(row) for row in self.counts)\n",
      "\n",
      "    def get_median_count(self, sequence):\n",
      "        get = self.get_hashed\n",
      "        return np.median([get(kh) for kh in sequence.kmers_hashed(self.ksize)])\n",
      "    \n",
      "    # sequences should be a generator that produces (name, dna(sequence)) tuples\n",
      "    def normalize_by_median(self, sequences, cutoff):\n",
      "        k = self.ksize\n",
      "        primes = self.primes\n",
      "        counts = self.counts\n",
      "        for name, sequence in sequences:\n",
      "            kmer_counts = [min(counts[i][kh % p] for i, p in enumerate(primes)) for kh in sequence.kmers_hashed(k)]\n",
      "            if np.median(kmer_counts) < cutoff:\n",
      "                yield name, sequence\n",
      "                for kh in sequence.kmers_hashed(self.ksize):\n",
      "                    for i, p in enumerate(primes):\n",
      "                        try:\n",
      "                            counts[i][kh % p] += 1\n",
      "                        except ValueError, OverflowError:\n",
      "                            pass"
     ],
     "language": "python",
     "metadata": {},
     "outputs": [],
     "prompt_number": 10
    },
    {
     "cell_type": "code",
     "collapsed": false,
     "input": [
      "import random\n",
      "\n",
      "bases = ['A', 'T', 'C', 'G']\n",
      "def rand_dna(L):\n",
      "    s = bases * (L // 4)\n",
      "    random.shuffle(s)\n",
      "    return dna(''.join(s))\n",
      "\n",
      "def rand_dnas(n, L=100):\n",
      "    r = rand_dna\n",
      "    for i in xrange(n):\n",
      "        yield rand_dna(L)"
     ],
     "language": "python",
     "metadata": {},
     "outputs": [],
     "prompt_number": 11
    },
    {
     "cell_type": "code",
     "collapsed": false,
     "input": [
      "def fasta_generator(n, L):\n",
      "    for i, seq in enumerate(rand_dnas(n, L)):\n",
      "        yield '>Seq {}'.format(i), seq"
     ],
     "language": "python",
     "metadata": {},
     "outputs": [],
     "prompt_number": 12
    },
    {
     "cell_type": "code",
     "collapsed": false,
     "input": [
      "cm_bytearray = KMerCountMinSketch(20,1e6,4)"
     ],
     "language": "python",
     "metadata": {},
     "outputs": [
      {
       "output_type": "stream",
       "stream": "stderr",
       "text": [
        "KMerCountMinSketch\n",
        "******************\n",
        "K: 20\n",
        "nhashes: 4\n",
        "Hashing primes:\n",
        "1000003, 1000033, 1000037, 1000039\n",
        "Array type: <type 'bytearray'>\n",
        "Array dtype: <type 'int'>\n"
       ]
      }
     ],
     "prompt_number": 37
    },
    {
     "cell_type": "code",
     "collapsed": false,
     "input": [
      "cm_array = KMerCountMinSketch(20, 1e6, 4, arrtype=array.array)"
     ],
     "language": "python",
     "metadata": {},
     "outputs": [
      {
       "output_type": "stream",
       "stream": "stderr",
       "text": [
        "KMerCountMinSketch\n",
        "******************\n",
        "K: 20\n",
        "nhashes: 4\n",
        "Hashing primes:\n",
        "1000003, 1000033, 1000037, 1000039\n",
        "Array type: <type 'array.array'>\n",
        "Array dtype: <type 'int'>\n"
       ]
      }
     ],
     "prompt_number": 52
    },
    {
     "cell_type": "code",
     "collapsed": false,
     "input": [
      "cm_nparray = KMerCountMinSketch(20, 1e6, 4, arrtype=np.array)"
     ],
     "language": "python",
     "metadata": {},
     "outputs": [
      {
       "output_type": "stream",
       "stream": "stderr",
       "text": [
        "KMerCountMinSketch\n",
        "******************\n",
        "K: 20\n",
        "nhashes: 4\n",
        "Hashing primes:\n",
        "1000003, 1000033, 1000037, 1000039\n",
        "Array type: <type 'numpy.ndarray'>\n",
        "Array dtype: <type 'numpy.uint8'>\n"
       ]
      }
     ],
     "prompt_number": 39
    },
    {
     "cell_type": "code",
     "collapsed": false,
     "input": [
      "test_seqs_1000 = [(name, seq) for name, seq in fasta_generator(1000, 100)] * 2\n",
      "random.shuffle(test_seqs_1000)\n",
      "test_seqs_10000 = [(name, seq) for name, seq in fasta_generator(10000, 100)] * 2\n",
      "random.shuffle(test_seqs_10000)\n",
      "test_seqs_100000 = [(name, seq) for name, seq in fasta_generator(100000, 100)] *2\n",
      "random.shuffle(test_seqs_100000)"
     ],
     "language": "python",
     "metadata": {},
     "outputs": [],
     "prompt_number": 36
    },
    {
     "cell_type": "code",
     "collapsed": false,
     "input": [
      "cm_bytearray_res = [(name,seq) for name, seq in cm_bytearray.normalize_by_median(test_seqs_1000, 2)]"
     ],
     "language": "python",
     "metadata": {},
     "outputs": [],
     "prompt_number": 128
    },
    {
     "cell_type": "code",
     "collapsed": false,
     "input": [
      "%%timeit -n 10\n",
      "for name, seq in test_seqs_10000:\n",
      "    cm_bytearray.count_sequence(seq)"
     ],
     "language": "python",
     "metadata": {},
     "outputs": [
      {
       "output_type": "stream",
       "stream": "stdout",
       "text": [
        "10 loops, best of 3: 3.07 s per loop\n"
       ]
      }
     ],
     "prompt_number": 40
    },
    {
     "cell_type": "code",
     "collapsed": true,
     "input": [
      "%%timeit -n 10\n",
      "for name, seq in test_seqs_10000:\n",
      "    cm_array.count_sequence(seq)"
     ],
     "language": "python",
     "metadata": {},
     "outputs": [
      {
       "ename": "OverflowError",
       "evalue": "unsigned byte integer is greater than maximum",
       "output_type": "pyerr",
       "traceback": [
        "\u001b[0;31m---------------------------------------------------------------------------\u001b[0m\n\u001b[0;31mOverflowError\u001b[0m                             Traceback (most recent call last)",
        "\u001b[0;32m<ipython-input-53-2ecc5261d37c>\u001b[0m in \u001b[0;36m<module>\u001b[0;34m()\u001b[0m\n\u001b[0;32m----> 1\u001b[0;31m \u001b[0mget_ipython\u001b[0m\u001b[0;34m(\u001b[0m\u001b[0;34m)\u001b[0m\u001b[0;34m.\u001b[0m\u001b[0mrun_cell_magic\u001b[0m\u001b[0;34m(\u001b[0m\u001b[0;34mu'timeit'\u001b[0m\u001b[0;34m,\u001b[0m \u001b[0;34mu'-n 10'\u001b[0m\u001b[0;34m,\u001b[0m \u001b[0;34mu'for name, seq in test_seqs_10000:\\n    cm_array.count_sequence(seq)'\u001b[0m\u001b[0;34m)\u001b[0m\u001b[0;34m\u001b[0m\u001b[0m\n\u001b[0m",
        "\u001b[0;32m/Users/camille/anaconda/lib/python2.7/site-packages/IPython/core/interactiveshell.pyc\u001b[0m in \u001b[0;36mrun_cell_magic\u001b[0;34m(self, magic_name, line, cell)\u001b[0m\n\u001b[1;32m   2127\u001b[0m             \u001b[0mmagic_arg_s\u001b[0m \u001b[0;34m=\u001b[0m \u001b[0mself\u001b[0m\u001b[0;34m.\u001b[0m\u001b[0mvar_expand\u001b[0m\u001b[0;34m(\u001b[0m\u001b[0mline\u001b[0m\u001b[0;34m,\u001b[0m \u001b[0mstack_depth\u001b[0m\u001b[0;34m)\u001b[0m\u001b[0;34m\u001b[0m\u001b[0m\n\u001b[1;32m   2128\u001b[0m             \u001b[0;32mwith\u001b[0m \u001b[0mself\u001b[0m\u001b[0;34m.\u001b[0m\u001b[0mbuiltin_trap\u001b[0m\u001b[0;34m:\u001b[0m\u001b[0;34m\u001b[0m\u001b[0m\n\u001b[0;32m-> 2129\u001b[0;31m                 \u001b[0mresult\u001b[0m \u001b[0;34m=\u001b[0m \u001b[0mfn\u001b[0m\u001b[0;34m(\u001b[0m\u001b[0mmagic_arg_s\u001b[0m\u001b[0;34m,\u001b[0m \u001b[0mcell\u001b[0m\u001b[0;34m)\u001b[0m\u001b[0;34m\u001b[0m\u001b[0m\n\u001b[0m\u001b[1;32m   2130\u001b[0m             \u001b[0;32mreturn\u001b[0m \u001b[0mresult\u001b[0m\u001b[0;34m\u001b[0m\u001b[0m\n\u001b[1;32m   2131\u001b[0m \u001b[0;34m\u001b[0m\u001b[0m\n",
        "\u001b[0;32m/Users/camille/anaconda/lib/python2.7/site-packages/IPython/core/magics/execution.pyc\u001b[0m in \u001b[0;36mtimeit\u001b[0;34m(self, line, cell)\u001b[0m\n",
        "\u001b[0;32m/Users/camille/anaconda/lib/python2.7/site-packages/IPython/core/magic.pyc\u001b[0m in \u001b[0;36m<lambda>\u001b[0;34m(f, *a, **k)\u001b[0m\n\u001b[1;32m    189\u001b[0m     \u001b[0;31m# but it's overkill for just that one bit of state.\u001b[0m\u001b[0;34m\u001b[0m\u001b[0;34m\u001b[0m\u001b[0m\n\u001b[1;32m    190\u001b[0m     \u001b[0;32mdef\u001b[0m \u001b[0mmagic_deco\u001b[0m\u001b[0;34m(\u001b[0m\u001b[0marg\u001b[0m\u001b[0;34m)\u001b[0m\u001b[0;34m:\u001b[0m\u001b[0;34m\u001b[0m\u001b[0m\n\u001b[0;32m--> 191\u001b[0;31m         \u001b[0mcall\u001b[0m \u001b[0;34m=\u001b[0m \u001b[0;32mlambda\u001b[0m \u001b[0mf\u001b[0m\u001b[0;34m,\u001b[0m \u001b[0;34m*\u001b[0m\u001b[0ma\u001b[0m\u001b[0;34m,\u001b[0m \u001b[0;34m**\u001b[0m\u001b[0mk\u001b[0m\u001b[0;34m:\u001b[0m \u001b[0mf\u001b[0m\u001b[0;34m(\u001b[0m\u001b[0;34m*\u001b[0m\u001b[0ma\u001b[0m\u001b[0;34m,\u001b[0m \u001b[0;34m**\u001b[0m\u001b[0mk\u001b[0m\u001b[0;34m)\u001b[0m\u001b[0;34m\u001b[0m\u001b[0m\n\u001b[0m\u001b[1;32m    192\u001b[0m \u001b[0;34m\u001b[0m\u001b[0m\n\u001b[1;32m    193\u001b[0m         \u001b[0;32mif\u001b[0m \u001b[0mcallable\u001b[0m\u001b[0;34m(\u001b[0m\u001b[0marg\u001b[0m\u001b[0;34m)\u001b[0m\u001b[0;34m:\u001b[0m\u001b[0;34m\u001b[0m\u001b[0m\n",
        "\u001b[0;32m/Users/camille/anaconda/lib/python2.7/site-packages/IPython/core/magics/execution.pyc\u001b[0m in \u001b[0;36mtimeit\u001b[0;34m(self, line, cell)\u001b[0m\n\u001b[1;32m    933\u001b[0m                 \u001b[0mnumber\u001b[0m \u001b[0;34m*=\u001b[0m \u001b[0;36m10\u001b[0m\u001b[0;34m\u001b[0m\u001b[0m\n\u001b[1;32m    934\u001b[0m \u001b[0;34m\u001b[0m\u001b[0m\n\u001b[0;32m--> 935\u001b[0;31m         \u001b[0mbest\u001b[0m \u001b[0;34m=\u001b[0m \u001b[0mmin\u001b[0m\u001b[0;34m(\u001b[0m\u001b[0mtimer\u001b[0m\u001b[0;34m.\u001b[0m\u001b[0mrepeat\u001b[0m\u001b[0;34m(\u001b[0m\u001b[0mrepeat\u001b[0m\u001b[0;34m,\u001b[0m \u001b[0mnumber\u001b[0m\u001b[0;34m)\u001b[0m\u001b[0;34m)\u001b[0m \u001b[0;34m/\u001b[0m \u001b[0mnumber\u001b[0m\u001b[0;34m\u001b[0m\u001b[0m\n\u001b[0m\u001b[1;32m    936\u001b[0m \u001b[0;34m\u001b[0m\u001b[0m\n\u001b[1;32m    937\u001b[0m         print u\"%d loops, best of %d: %s per loop\" % (number, repeat,\n",
        "\u001b[0;32m/Users/camille/anaconda/python.app/Contents/lib/python2.7/timeit.pyc\u001b[0m in \u001b[0;36mrepeat\u001b[0;34m(self, repeat, number)\u001b[0m\n\u001b[1;32m    221\u001b[0m         \u001b[0mr\u001b[0m \u001b[0;34m=\u001b[0m \u001b[0;34m[\u001b[0m\u001b[0;34m]\u001b[0m\u001b[0;34m\u001b[0m\u001b[0m\n\u001b[1;32m    222\u001b[0m         \u001b[0;32mfor\u001b[0m \u001b[0mi\u001b[0m \u001b[0;32min\u001b[0m \u001b[0mrange\u001b[0m\u001b[0;34m(\u001b[0m\u001b[0mrepeat\u001b[0m\u001b[0;34m)\u001b[0m\u001b[0;34m:\u001b[0m\u001b[0;34m\u001b[0m\u001b[0m\n\u001b[0;32m--> 223\u001b[0;31m             \u001b[0mt\u001b[0m \u001b[0;34m=\u001b[0m \u001b[0mself\u001b[0m\u001b[0;34m.\u001b[0m\u001b[0mtimeit\u001b[0m\u001b[0;34m(\u001b[0m\u001b[0mnumber\u001b[0m\u001b[0;34m)\u001b[0m\u001b[0;34m\u001b[0m\u001b[0m\n\u001b[0m\u001b[1;32m    224\u001b[0m             \u001b[0mr\u001b[0m\u001b[0;34m.\u001b[0m\u001b[0mappend\u001b[0m\u001b[0;34m(\u001b[0m\u001b[0mt\u001b[0m\u001b[0;34m)\u001b[0m\u001b[0;34m\u001b[0m\u001b[0m\n\u001b[1;32m    225\u001b[0m         \u001b[0;32mreturn\u001b[0m \u001b[0mr\u001b[0m\u001b[0;34m\u001b[0m\u001b[0m\n",
        "\u001b[0;32m/Users/camille/anaconda/python.app/Contents/lib/python2.7/timeit.pyc\u001b[0m in \u001b[0;36mtimeit\u001b[0;34m(self, number)\u001b[0m\n\u001b[1;32m    193\u001b[0m         \u001b[0mgc\u001b[0m\u001b[0;34m.\u001b[0m\u001b[0mdisable\u001b[0m\u001b[0;34m(\u001b[0m\u001b[0;34m)\u001b[0m\u001b[0;34m\u001b[0m\u001b[0m\n\u001b[1;32m    194\u001b[0m         \u001b[0;32mtry\u001b[0m\u001b[0;34m:\u001b[0m\u001b[0;34m\u001b[0m\u001b[0m\n\u001b[0;32m--> 195\u001b[0;31m             \u001b[0mtiming\u001b[0m \u001b[0;34m=\u001b[0m \u001b[0mself\u001b[0m\u001b[0;34m.\u001b[0m\u001b[0minner\u001b[0m\u001b[0;34m(\u001b[0m\u001b[0mit\u001b[0m\u001b[0;34m,\u001b[0m \u001b[0mself\u001b[0m\u001b[0;34m.\u001b[0m\u001b[0mtimer\u001b[0m\u001b[0;34m)\u001b[0m\u001b[0;34m\u001b[0m\u001b[0m\n\u001b[0m\u001b[1;32m    196\u001b[0m         \u001b[0;32mfinally\u001b[0m\u001b[0;34m:\u001b[0m\u001b[0;34m\u001b[0m\u001b[0m\n\u001b[1;32m    197\u001b[0m             \u001b[0;32mif\u001b[0m \u001b[0mgcold\u001b[0m\u001b[0;34m:\u001b[0m\u001b[0;34m\u001b[0m\u001b[0m\n",
        "\u001b[0;32m<magic-timeit>\u001b[0m in \u001b[0;36minner\u001b[0;34m(_it, _timer)\u001b[0m\n",
        "\u001b[0;32m<ipython-input-51-a55c4f7ae769>\u001b[0m in \u001b[0;36mcount_sequence\u001b[0;34m(self, sequence)\u001b[0m\n\u001b[1;32m     94\u001b[0m             \u001b[0;32mfor\u001b[0m \u001b[0mi\u001b[0m\u001b[0;34m,\u001b[0m \u001b[0mp\u001b[0m \u001b[0;32min\u001b[0m \u001b[0menumerate\u001b[0m\u001b[0;34m(\u001b[0m\u001b[0mprimes\u001b[0m\u001b[0;34m)\u001b[0m\u001b[0;34m:\u001b[0m\u001b[0;34m\u001b[0m\u001b[0m\n\u001b[1;32m     95\u001b[0m                 \u001b[0;32mtry\u001b[0m\u001b[0;34m:\u001b[0m\u001b[0;34m\u001b[0m\u001b[0m\n\u001b[0;32m---> 96\u001b[0;31m                     \u001b[0mcounts\u001b[0m\u001b[0;34m[\u001b[0m\u001b[0mi\u001b[0m\u001b[0;34m]\u001b[0m\u001b[0;34m[\u001b[0m\u001b[0mkh\u001b[0m \u001b[0;34m%\u001b[0m \u001b[0mp\u001b[0m\u001b[0;34m]\u001b[0m \u001b[0;34m+=\u001b[0m \u001b[0;36m1\u001b[0m\u001b[0;34m\u001b[0m\u001b[0m\n\u001b[0m\u001b[1;32m     97\u001b[0m                 \u001b[0;32mexcept\u001b[0m \u001b[0mValueError\u001b[0m\u001b[0;34m,\u001b[0m \u001b[0mOverflowError\u001b[0m\u001b[0;34m:\u001b[0m\u001b[0;34m\u001b[0m\u001b[0m\n\u001b[1;32m     98\u001b[0m                     \u001b[0;32mpass\u001b[0m\u001b[0;34m\u001b[0m\u001b[0m\n",
        "\u001b[0;31mOverflowError\u001b[0m: unsigned byte integer is greater than maximum"
       ]
      }
     ],
     "prompt_number": 53
    },
    {
     "cell_type": "code",
     "collapsed": false,
     "input": [
      "%%timeit -n 10\n",
      "for name, seq in test_seqs_10000:\n",
      "    cm_nparray.count_sequence(seq)"
     ],
     "language": "python",
     "metadata": {},
     "outputs": [
      {
       "output_type": "stream",
       "stream": "stdout",
       "text": [
        "10 loops, best of 3: 28.6 s per loop\n"
       ]
      }
     ],
     "prompt_number": 47
    },
    {
     "cell_type": "code",
     "collapsed": false,
     "input": [],
     "language": "python",
     "metadata": {},
     "outputs": []
    }
   ],
   "metadata": {}
  }
 ]
}